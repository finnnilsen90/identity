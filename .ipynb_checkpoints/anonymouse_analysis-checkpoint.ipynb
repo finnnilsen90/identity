{
 "cells": [
  {
   "cell_type": "code",
   "execution_count": 1,
   "id": "55fd510f",
   "metadata": {},
   "outputs": [
    {
     "data": {
      "text/plain": [
       "{'First_Name': 'CaylaKaysen@gmail.com',\n",
       " 'Last_Name': 'JayleeKellan@gmail.com',\n",
       " 'Email': 'KarloCourtney@gmail.com'}"
      ]
     },
     "execution_count": 1,
     "metadata": {},
     "output_type": "execute_result"
    }
   ],
   "source": [
    "import pandas as pd\n",
    "import numpy as np\n",
    "\n",
    "from everyone_anonymouse import something_nothing as sn\n",
    "data = {\n",
    "            'First_Name': [],\n",
    "            'Last_Name': [],\n",
    "            'Email': []\n",
    "        }\n",
    "columns = ['First_Name','Last_Name','Email']\n",
    "\n",
    "\n",
    "test = sn(data,columns,20).generate_data()\n",
    "test"
   ]
  },
  {
   "cell_type": "code",
   "execution_count": null,
   "id": "ce6d0fa1",
   "metadata": {},
   "outputs": [],
   "source": []
  }
 ],
 "metadata": {
  "kernelspec": {
   "display_name": "Python 3 (ipykernel)",
   "language": "python",
   "name": "python3"
  },
  "language_info": {
   "codemirror_mode": {
    "name": "ipython",
    "version": 3
   },
   "file_extension": ".py",
   "mimetype": "text/x-python",
   "name": "python",
   "nbconvert_exporter": "python",
   "pygments_lexer": "ipython3",
   "version": "3.10.1"
  }
 },
 "nbformat": 4,
 "nbformat_minor": 5
}
