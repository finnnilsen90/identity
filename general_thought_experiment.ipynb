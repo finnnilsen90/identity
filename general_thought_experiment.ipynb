{
 "cells": [
  {
   "cell_type": "code",
   "execution_count": 1,
   "id": "08352ace",
   "metadata": {},
   "outputs": [],
   "source": [
    "# Standard Python Modules\n",
    "import pandas as pd\n",
    "import numpy as np\n",
    "import math\n",
    "# Custom Python Modules\n",
    "from everyone_anonymouse import something_nothing as sn"
   ]
  },
  {
   "cell_type": "markdown",
   "id": "dec9f977",
   "metadata": {},
   "source": [
    "# Anonymized Data Generation Tutorial\n",
    "The section below outlines the **something_nothing**  class from the **everyone_anonymouse** python module. This calss is used to create and test FAKE PII datasets (these are NOT real people)."
   ]
  },
  {
   "cell_type": "code",
   "execution_count": 2,
   "id": "8cfae321",
   "metadata": {},
   "outputs": [
    {
     "data": {
      "text/html": [
       "<div>\n",
       "<style scoped>\n",
       "    .dataframe tbody tr th:only-of-type {\n",
       "        vertical-align: middle;\n",
       "    }\n",
       "\n",
       "    .dataframe tbody tr th {\n",
       "        vertical-align: top;\n",
       "    }\n",
       "\n",
       "    .dataframe thead th {\n",
       "        text-align: right;\n",
       "    }\n",
       "</style>\n",
       "<table border=\"1\" class=\"dataframe\">\n",
       "  <thead>\n",
       "    <tr style=\"text-align: right;\">\n",
       "      <th></th>\n",
       "      <th>First_Name</th>\n",
       "      <th>Last_Name</th>\n",
       "      <th>Email</th>\n",
       "    </tr>\n",
       "  </thead>\n",
       "  <tbody>\n",
       "    <tr>\n",
       "      <th>0</th>\n",
       "      <td>Garry</td>\n",
       "      <td>Claire</td>\n",
       "      <td>GarryClaire@gmail.com</td>\n",
       "    </tr>\n",
       "    <tr>\n",
       "      <th>1</th>\n",
       "      <td>Makayla</td>\n",
       "      <td>Ainsley</td>\n",
       "      <td>MakaylaAinsley@gmail.com</td>\n",
       "    </tr>\n",
       "    <tr>\n",
       "      <th>2</th>\n",
       "      <td>Terry</td>\n",
       "      <td>Carmen</td>\n",
       "      <td>TerryCarmen@gmail.com</td>\n",
       "    </tr>\n",
       "    <tr>\n",
       "      <th>3</th>\n",
       "      <td>Irene</td>\n",
       "      <td>Eric</td>\n",
       "      <td>IreneEric@gmail.com</td>\n",
       "    </tr>\n",
       "    <tr>\n",
       "      <th>4</th>\n",
       "      <td>Hanna</td>\n",
       "      <td>Alyvia</td>\n",
       "      <td>HannaAlyvia@gmail.com</td>\n",
       "    </tr>\n",
       "  </tbody>\n",
       "</table>\n",
       "</div>"
      ],
      "text/plain": [
       "  First_Name Last_Name                     Email\n",
       "0      Garry    Claire     GarryClaire@gmail.com\n",
       "1    Makayla   Ainsley  MakaylaAinsley@gmail.com\n",
       "2      Terry    Carmen     TerryCarmen@gmail.com\n",
       "3      Irene      Eric       IreneEric@gmail.com\n",
       "4      Hanna    Alyvia     HannaAlyvia@gmail.com"
      ]
     },
     "execution_count": 2,
     "metadata": {},
     "output_type": "execute_result"
    }
   ],
   "source": [
    "# Create first party PII dataset.\n",
    "\n",
    "# The data object is meant to set up a framework to populate data into.\n",
    "data = {\n",
    "            'First_Name': [],\n",
    "            'Last_Name': [],\n",
    "            'Email': []\n",
    "        }\n",
    "\n",
    "finn_corp = sn(data,100000) # Create a FAKE PII dataset.\n",
    "df = pd.DataFrame(data=finn_corp.generate_data()) # Convert the FAKE PII dataset into a dataframe.\n",
    "df.head() # Show top 5 rows of the dataframe."
   ]
  },
  {
   "cell_type": "code",
   "execution_count": 3,
   "id": "b15d3d69",
   "metadata": {},
   "outputs": [
    {
     "data": {
      "text/plain": [
       "[-1487839991098259958,\n",
       " -794635763299743076,\n",
       " 1975960280139614608,\n",
       " 7159073561432267593,\n",
       " -3398572806410841268]"
      ]
     },
     "execution_count": 3,
     "metadata": {},
     "output_type": "execute_result"
    }
   ],
   "source": [
    "# Hash emails\n",
    "finn_corp_hash = finn_corp.hash() # Insert hashed emails into a Python list (array)\n",
    "finn_corp_hash[:5] # Show first 5 hashed emails in the array."
   ]
  },
  {
   "cell_type": "code",
   "execution_count": null,
   "id": "52669e57",
   "metadata": {},
   "outputs": [],
   "source": [
    "# Match hashed email. The below exercize test the something_nothing classes ability to match hashed values.\n",
    "\n",
    "matched_email = finn_corp.match(finn_corp_hash[0]) # Match the first hashed email in the arr_hash list.\n",
    "print('Email that is matched: '+str(matched_email)) # Print the results.\n",
    "for i in finn_corp.generate_data()['Email']: # Loop through the emails in the FAKE PII dataset.\n",
    "    if i == matched_email: # Check if the matched emails matches any of the emails in the dataset.\n",
    "        email_ = i # Store the matched email in the **email** variable.\n",
    "print('Email match check: '+str(email_))# Print the results.\n",
    "\n",
    "# Does the hash **match_email** function work?\n",
    "if matched_email == email_: \n",
    "    result = 'yes!' \n",
    "else:\n",
    "    result = 'No. Get to work!'\n",
    "print('')\n",
    "print('Is everything working? The answer is '+str(result))\n",
    "# The **Email that is matched** should be the same as the **Email match check**. If they don't match or \n",
    "# none is returned... Likely something is broken.\n",
    "\n"
   ]
  },
  {
   "cell_type": "markdown",
   "id": "72fc6fbc",
   "metadata": {},
   "source": [
    "# Thought Expriment\n",
    "When thinking of ways to anonymously identify users on the internet one of the most important questions to answer is how is scale going to be impacted? The goal of this thought experiment is to model what the hypothetical reach and frequency of targeting an anonymized audience would be. \n",
    "\n",
    "## Tools\n",
    "The **something_nothing** class (tutorial above) is used to generate the FAKE PII dataset and match hashed emails.\n",
    "\n",
    "## General Scenario\n",
    "A dataset with PII from a large company called Finn Corp is hashed utilizing the email address. These hashed emails are utilized by the DSP to identify users that _login_ to a publishers website. \n",
    "### Supply Side Business Questions\n",
    "- What percent of users login to a publisher website?\n",
    "- Of those logged in users what percent of them are in our data set?\n",
    "\n",
    "### Buy Side Business Questions\n",
    "- What is the frequency per hashed email over the lifetime of a 30 day digital campaign?\n",
    "- How much is spent to reach the matched emails with a 4 dollar CPM?"
   ]
  },
  {
   "cell_type": "code",
   "execution_count": null,
   "id": "345e6278",
   "metadata": {},
   "outputs": [],
   "source": [
    "# Supply side business questions\n",
    "hashed_size = len(finn_corp_hash)\n",
    "\n",
    "# What percent of users login to a publisher website?\n",
    "log_in_per = .50\n",
    "print('Currently '+str(log_in_per*100)+'% of users login.')\n",
    "\n",
    "# Of those logged in users what percent of them are in our dataset?\n",
    "match_usr_per = .20\n",
    "print('Of those logged in users '+str(match_usr_per*100)+'% of them are matched to our '+str(hashed_size)+' person dataset.')\n",
    "num_usr = math.floor((log_in_per*match_usr_per)*hashed_size)\n",
    "print('Number of matched users: '+str(num_usr))\n",
    "match_usr = finn_corp_hash[:num_usr]"
   ]
  },
  {
   "cell_type": "code",
   "execution_count": null,
   "id": "70fddbf9",
   "metadata": {},
   "outputs": [],
   "source": [
    "# Buy side business questions\n",
    "\n",
    "# What is the frequency per hashed email over the lifetime of a 30 day digital campaign?\n",
    "life_freq = 3\n",
    "impressions = num_usr*life_freq\n",
    "print('Campaign achieves a lifetime frequency of '+str(life_freq)+' and delivers '+str(impressions)+' impressions.')\n",
    "\n",
    "# What is the CPM for a 5000 dollar media budget when factoring in reach and frequency?\n",
    "cpm = 4\n",
    "spend = cpm*(impressions/1000)\n",
    "print('Campaign spends $'+str(spend)+' at a $'+str(cpm)+' CPM.')"
   ]
  }
 ],
 "metadata": {
  "kernelspec": {
   "display_name": "Python 3 (ipykernel)",
   "language": "python",
   "name": "python3"
  },
  "language_info": {
   "codemirror_mode": {
    "name": "ipython",
    "version": 3
   },
   "file_extension": ".py",
   "mimetype": "text/x-python",
   "name": "python",
   "nbconvert_exporter": "python",
   "pygments_lexer": "ipython3",
   "version": "3.10.1"
  }
 },
 "nbformat": 4,
 "nbformat_minor": 5
}
