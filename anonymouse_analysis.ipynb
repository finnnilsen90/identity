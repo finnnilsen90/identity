{
 "cells": [
  {
   "cell_type": "code",
   "execution_count": 1,
   "id": "5c58f62f",
   "metadata": {},
   "outputs": [],
   "source": [
    "import pandas as pd\n",
    "import numpy as np\n",
    "from everyone_anonymouse import something_nothing as sn"
   ]
  },
  {
   "cell_type": "code",
   "execution_count": 2,
   "id": "acf41986",
   "metadata": {},
   "outputs": [
    {
     "data": {
      "text/html": [
       "<div>\n",
       "<style scoped>\n",
       "    .dataframe tbody tr th:only-of-type {\n",
       "        vertical-align: middle;\n",
       "    }\n",
       "\n",
       "    .dataframe tbody tr th {\n",
       "        vertical-align: top;\n",
       "    }\n",
       "\n",
       "    .dataframe thead th {\n",
       "        text-align: right;\n",
       "    }\n",
       "</style>\n",
       "<table border=\"1\" class=\"dataframe\">\n",
       "  <thead>\n",
       "    <tr style=\"text-align: right;\">\n",
       "      <th></th>\n",
       "      <th>First_Name</th>\n",
       "      <th>Last_Name</th>\n",
       "      <th>Email</th>\n",
       "    </tr>\n",
       "  </thead>\n",
       "  <tbody>\n",
       "    <tr>\n",
       "      <th>0</th>\n",
       "      <td>Meghana</td>\n",
       "      <td>Khalil</td>\n",
       "      <td>MeghanaKhalil@gmail.com</td>\n",
       "    </tr>\n",
       "    <tr>\n",
       "      <th>1</th>\n",
       "      <td>Deandre</td>\n",
       "      <td>Lucero</td>\n",
       "      <td>DeandreLucero@gmail.com</td>\n",
       "    </tr>\n",
       "    <tr>\n",
       "      <th>2</th>\n",
       "      <td>Anaya</td>\n",
       "      <td>Alexandrea</td>\n",
       "      <td>AnayaAlexandrea@gmail.com</td>\n",
       "    </tr>\n",
       "    <tr>\n",
       "      <th>3</th>\n",
       "      <td>Rylen</td>\n",
       "      <td>Arian</td>\n",
       "      <td>RylenArian@gmail.com</td>\n",
       "    </tr>\n",
       "    <tr>\n",
       "      <th>4</th>\n",
       "      <td>Bennett</td>\n",
       "      <td>Lana</td>\n",
       "      <td>BennettLana@gmail.com</td>\n",
       "    </tr>\n",
       "  </tbody>\n",
       "</table>\n",
       "</div>"
      ],
      "text/plain": [
       "  First_Name   Last_Name                      Email\n",
       "0    Meghana      Khalil    MeghanaKhalil@gmail.com\n",
       "1    Deandre      Lucero    DeandreLucero@gmail.com\n",
       "2      Anaya  Alexandrea  AnayaAlexandrea@gmail.com\n",
       "3      Rylen       Arian       RylenArian@gmail.com\n",
       "4    Bennett        Lana      BennettLana@gmail.com"
      ]
     },
     "execution_count": 2,
     "metadata": {},
     "output_type": "execute_result"
    }
   ],
   "source": [
    "# Create first party PII dataset.\n",
    "data = {\n",
    "            'First_Name': [],\n",
    "            'Last_Name': [],\n",
    "            'Email': []\n",
    "        }\n",
    "\n",
    "test_data = sn(data,20)\n",
    "df = pd.DataFrame(test_data.generate_data())\n",
    "df.head()"
   ]
  },
  {
   "cell_type": "code",
   "execution_count": 3,
   "id": "37f9ad58",
   "metadata": {},
   "outputs": [
    {
     "data": {
      "text/plain": [
       "[2364978621811274166,\n",
       " 2197063933556954979,\n",
       " -1157944919724198811,\n",
       " -4851011630246148361,\n",
       " -4505844475157608346,\n",
       " -1253530084062219134,\n",
       " 2874055422137780032,\n",
       " -4649900244482509155,\n",
       " -4847974159717497860,\n",
       " -9098021523842080049,\n",
       " -3601254883950019675,\n",
       " 4345017634281998184,\n",
       " 7475344768040886534,\n",
       " -1745912769518038443,\n",
       " 8913779869771400204,\n",
       " 3435458913030101555,\n",
       " 799507937984024733,\n",
       " -8920953607660444386,\n",
       " -3095173394116632827,\n",
       " -2758050172491215591]"
      ]
     },
     "execution_count": 3,
     "metadata": {},
     "output_type": "execute_result"
    }
   ],
   "source": [
    "# hash emails\n",
    "arr_hash = test_data.hash()\n",
    "arr_hash"
   ]
  },
  {
   "cell_type": "code",
   "execution_count": 4,
   "id": "3c9e7a7f",
   "metadata": {},
   "outputs": [
    {
     "name": "stdout",
     "output_type": "stream",
     "text": [
      "Email that is matched: MeghanaKhalil@gmail.com\n",
      "Email to match: MeghanaKhalil@gmail.com\n"
     ]
    }
   ],
   "source": [
    "email = test_data.generate_data()\n",
    "matched_email = test_data.match(arr_hash[0],email)\n",
    "print('Email that is matched: '+str(matched_email))\n",
    "for i in email['Email']:\n",
    "    if i == matched_email:\n",
    "        email_ = i\n",
    "print('Email to match: '+str(email_))"
   ]
  }
 ],
 "metadata": {
  "kernelspec": {
   "display_name": "Python 3 (ipykernel)",
   "language": "python",
   "name": "python3"
  },
  "language_info": {
   "codemirror_mode": {
    "name": "ipython",
    "version": 3
   },
   "file_extension": ".py",
   "mimetype": "text/x-python",
   "name": "python",
   "nbconvert_exporter": "python",
   "pygments_lexer": "ipython3",
   "version": "3.10.1"
  }
 },
 "nbformat": 4,
 "nbformat_minor": 5
}
