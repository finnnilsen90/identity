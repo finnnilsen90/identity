{
 "cells": [
  {
   "cell_type": "code",
   "execution_count": 1,
   "id": "d9bca59e",
   "metadata": {},
   "outputs": [],
   "source": [
    "# Standard Python Modules\n",
    "import pandas as pd\n",
    "import numpy as np\n",
    "import math\n",
    "# Custom Python Modules\n",
    "from everyone_anonymouse import something_nothing as sn"
   ]
  },
  {
   "cell_type": "markdown",
   "id": "581fb797",
   "metadata": {},
   "source": [
    "# Anonymized Data Generation Tutorial\n",
    "The section below outlines the **something_nothing**  class from the **everyone_anonymouse** python module. This calss is used to create and test FAKE PII datasets (these are NOT real people)."
   ]
  },
  {
   "cell_type": "code",
   "execution_count": 2,
   "id": "0f787766",
   "metadata": {},
   "outputs": [
    {
     "data": {
      "text/html": [
       "<div>\n",
       "<style scoped>\n",
       "    .dataframe tbody tr th:only-of-type {\n",
       "        vertical-align: middle;\n",
       "    }\n",
       "\n",
       "    .dataframe tbody tr th {\n",
       "        vertical-align: top;\n",
       "    }\n",
       "\n",
       "    .dataframe thead th {\n",
       "        text-align: right;\n",
       "    }\n",
       "</style>\n",
       "<table border=\"1\" class=\"dataframe\">\n",
       "  <thead>\n",
       "    <tr style=\"text-align: right;\">\n",
       "      <th></th>\n",
       "      <th>First_Name</th>\n",
       "      <th>Last_Name</th>\n",
       "      <th>Email</th>\n",
       "    </tr>\n",
       "  </thead>\n",
       "  <tbody>\n",
       "    <tr>\n",
       "      <th>0</th>\n",
       "      <td>Palmer</td>\n",
       "      <td>Avian</td>\n",
       "      <td>PalmerAvian@gmail.com</td>\n",
       "    </tr>\n",
       "    <tr>\n",
       "      <th>1</th>\n",
       "      <td>Liam</td>\n",
       "      <td>Arielle</td>\n",
       "      <td>LiamArielle@gmail.com</td>\n",
       "    </tr>\n",
       "    <tr>\n",
       "      <th>2</th>\n",
       "      <td>Landen</td>\n",
       "      <td>Sammy</td>\n",
       "      <td>LandenSammy@gmail.com</td>\n",
       "    </tr>\n",
       "    <tr>\n",
       "      <th>3</th>\n",
       "      <td>Bristol</td>\n",
       "      <td>Alicia</td>\n",
       "      <td>BristolAlicia@gmail.com</td>\n",
       "    </tr>\n",
       "    <tr>\n",
       "      <th>4</th>\n",
       "      <td>Addyson</td>\n",
       "      <td>Shane</td>\n",
       "      <td>AddysonShane@gmail.com</td>\n",
       "    </tr>\n",
       "  </tbody>\n",
       "</table>\n",
       "</div>"
      ],
      "text/plain": [
       "  First_Name Last_Name                    Email\n",
       "0     Palmer     Avian    PalmerAvian@gmail.com\n",
       "1       Liam   Arielle    LiamArielle@gmail.com\n",
       "2     Landen     Sammy    LandenSammy@gmail.com\n",
       "3    Bristol    Alicia  BristolAlicia@gmail.com\n",
       "4    Addyson     Shane   AddysonShane@gmail.com"
      ]
     },
     "execution_count": 2,
     "metadata": {},
     "output_type": "execute_result"
    }
   ],
   "source": [
    "# Create first party PII dataset.\n",
    "\n",
    "# The data object is meant to set up a framework to populate data into.\n",
    "data = {\n",
    "            'First_Name': [],\n",
    "            'Last_Name': [],\n",
    "            'Email': []\n",
    "        }\n",
    "\n",
    "finn_corp = sn(data,100000) # Create a 20 row FAKE PII dataset.\n",
    "df = pd.DataFrame(data=finn_corp.generate_data()) # Convert the FAKE PII dataset into a dataframe.\n",
    "df.head() # Show top 5 rows of the dataframe."
   ]
  },
  {
   "cell_type": "code",
   "execution_count": 3,
   "id": "a1c64bf6",
   "metadata": {},
   "outputs": [
    {
     "data": {
      "text/plain": [
       "[-3531285944219343872,\n",
       " -6768250205393769143,\n",
       " -4528607031030122088,\n",
       " -6101865616948794025,\n",
       " 8888192416867525128]"
      ]
     },
     "execution_count": 3,
     "metadata": {},
     "output_type": "execute_result"
    }
   ],
   "source": [
    "# Hash emails\n",
    "finn_corp_hash = finn_corp.hash() # Insert hashed emails into a Python list (array)\n",
    "finn_corp_hash[:5] # Show first 5 hashed emails in the array."
   ]
  },
  {
   "cell_type": "code",
   "execution_count": 4,
   "id": "838e752f",
   "metadata": {},
   "outputs": [
    {
     "name": "stdout",
     "output_type": "stream",
     "text": [
      "Email that is matched: LiamArielle@gmail.com\n",
      "Email match check: LiamArielle@gmail.com\n",
      "\n",
      "Is everything working? The answer is yes!\n"
     ]
    }
   ],
   "source": [
    "# Match hashed email. The below exercize test the something_nothing classes ability to match hashed values.\n",
    "\n",
    "matched_email = finn_corp.match(finn_corp_hash[0]) # Match the first hashed email in the arr_hash list.\n",
    "print('Email that is matched: '+str(matched_email)) # Print the results.\n",
    "for i in finn_corp.generate_data()['Email']: # Loop through the emails in the FAKE PII dataset.\n",
    "    if i == matched_email: # Check if the matched emails matches any of the emails in the dataset.\n",
    "        email_ = i # Store the matched email in the **email** variable.\n",
    "print('Email match check: '+str(email_))# Print the results.\n",
    "\n",
    "# Does the hash **match_email** function work?\n",
    "if matched_email == email_: \n",
    "    result = 'yes!' \n",
    "else:\n",
    "    result = 'No. Get to work!'\n",
    "print('')\n",
    "print('Is everything working? The answer is '+str(result))\n",
    "# The **Email that is matched** should be the same as the **Email match check**. If they don't match or \n",
    "# none is returned... Likely something is broken.\n",
    "\n"
   ]
  },
  {
   "cell_type": "markdown",
   "id": "9de1dbb3",
   "metadata": {},
   "source": [
    "# Thought Expriment\n",
    "When thinking of ways to anonymously identify users on the internet one of the most important questions to answer is how is scale going to be impacted? The goal of this thought experiment is to model what the hypothetical reach and frequency of targeting an anonymized audience would be. \n",
    "\n",
    "## Tools\n",
    "The **something_nothing** class (tutorial above) is used to generate the FAKE PII dataset and match hashed emails.\n",
    "\n",
    "## General Scenario\n",
    "A dataset with PII from a large company called Finn Corp is hashed utilizing the email address. These hashed emails are utilized by the DSP to identify users that _login_ to a publishers website. \n",
    "### Supply Side Business Questions\n",
    "- What percent of users login to a publisher website?\n",
    "- Of those logged in users what percent of them are in our data set?\n",
    "\n",
    "### Buy Side Business Questions\n",
    "- What is the frequency per hashed email over the lifetime of a 30 day digital campaign?\n",
    "- How much is spent to reach the matched emails with a 4 dollar CPM?"
   ]
  },
  {
   "cell_type": "code",
   "execution_count": 5,
   "id": "e1ff4602",
   "metadata": {},
   "outputs": [
    {
     "name": "stdout",
     "output_type": "stream",
     "text": [
      "Currently 50.0% of users log in.\n",
      "Of those logged in users 20.0% of them are matched to our 100000 person dataset.\n",
      "Number of matched users: 10000\n"
     ]
    }
   ],
   "source": [
    "# Supply side business questions\n",
    "hashed_size = len(finn_corp_hash)\n",
    "\n",
    "# What percent of users login to a publisher website?\n",
    "log_in_per = .50\n",
    "print('Currently '+str(log_in_per*100)+'% of users login.')\n",
    "\n",
    "# Of those logged in users what percent of them are in our dataset?\n",
    "match_usr_per = .20\n",
    "print('Of those logged in users '+str(match_usr_per*100)+'% of them are matched to our '+str(hashed_size)+' person dataset.')\n",
    "num_usr = math.floor((log_in_per*match_usr_per)*hashed_size)\n",
    "print('Number of matched users: '+str(num_usr))\n",
    "match_usr = finn_corp_hash[:num_usr]"
   ]
  },
  {
   "cell_type": "code",
   "execution_count": 6,
   "id": "a7da1c63",
   "metadata": {},
   "outputs": [
    {
     "name": "stdout",
     "output_type": "stream",
     "text": [
      "Campaign achieves a lifetime frequency of 3 and delivers 30000 impressions.\n",
      "Campaign spends $120.0 at a $4 CPM.\n"
     ]
    }
   ],
   "source": [
    "# Buy side business questions\n",
    "\n",
    "# What is the frequency per hashed email over the lifetime of a 30 day digital campaign?\n",
    "life_freq = 3\n",
    "impressions = num_usr*life_freq\n",
    "print('Campaign achieves a lifetime frequency of '+str(life_freq)+' and delivers '+str(impressions)+' impressions.')\n",
    "\n",
    "# What is the CPM for a 5000 dollar media budget when factoring in reach and frequency?\n",
    "cpm = 4\n",
    "spend = cpm*(impressions/1000)\n",
    "print('Campaign spends $'+str(spend)+' at a $'+str(cpm)+' CPM.')"
   ]
  }
 ],
 "metadata": {
  "kernelspec": {
   "display_name": "Python 3 (ipykernel)",
   "language": "python",
   "name": "python3"
  },
  "language_info": {
   "codemirror_mode": {
    "name": "ipython",
    "version": 3
   },
   "file_extension": ".py",
   "mimetype": "text/x-python",
   "name": "python",
   "nbconvert_exporter": "python",
   "pygments_lexer": "ipython3",
   "version": "3.10.1"
  }
 },
 "nbformat": 4,
 "nbformat_minor": 5
}
