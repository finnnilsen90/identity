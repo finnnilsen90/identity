{
 "cells": [
  {
   "cell_type": "code",
   "execution_count": 1,
   "id": "45f4c001",
   "metadata": {},
   "outputs": [],
   "source": [
    "import pandas as pd\n",
    "import numpy as np\n",
    "from everyone_anonymouse import something_nothing as sn"
   ]
  },
  {
   "cell_type": "code",
   "execution_count": 2,
   "id": "dfe98cd7",
   "metadata": {},
   "outputs": [
    {
     "data": {
      "text/html": [
       "<div>\n",
       "<style scoped>\n",
       "    .dataframe tbody tr th:only-of-type {\n",
       "        vertical-align: middle;\n",
       "    }\n",
       "\n",
       "    .dataframe tbody tr th {\n",
       "        vertical-align: top;\n",
       "    }\n",
       "\n",
       "    .dataframe thead th {\n",
       "        text-align: right;\n",
       "    }\n",
       "</style>\n",
       "<table border=\"1\" class=\"dataframe\">\n",
       "  <thead>\n",
       "    <tr style=\"text-align: right;\">\n",
       "      <th></th>\n",
       "      <th>First_Name</th>\n",
       "      <th>Last_Name</th>\n",
       "      <th>Email</th>\n",
       "    </tr>\n",
       "  </thead>\n",
       "  <tbody>\n",
       "    <tr>\n",
       "      <th>0</th>\n",
       "      <td>Kamya</td>\n",
       "      <td>Ivette</td>\n",
       "      <td>KamyaIvette@gmail.com</td>\n",
       "    </tr>\n",
       "    <tr>\n",
       "      <th>1</th>\n",
       "      <td>Maite</td>\n",
       "      <td>Aleigha</td>\n",
       "      <td>MaiteAleigha@gmail.com</td>\n",
       "    </tr>\n",
       "    <tr>\n",
       "      <th>2</th>\n",
       "      <td>Earnest</td>\n",
       "      <td>Terry</td>\n",
       "      <td>EarnestTerry@gmail.com</td>\n",
       "    </tr>\n",
       "    <tr>\n",
       "      <th>3</th>\n",
       "      <td>Remy</td>\n",
       "      <td>Cohen</td>\n",
       "      <td>RemyCohen@gmail.com</td>\n",
       "    </tr>\n",
       "    <tr>\n",
       "      <th>4</th>\n",
       "      <td>Riley</td>\n",
       "      <td>Abel</td>\n",
       "      <td>RileyAbel@gmail.com</td>\n",
       "    </tr>\n",
       "  </tbody>\n",
       "</table>\n",
       "</div>"
      ],
      "text/plain": [
       "  First_Name Last_Name                   Email\n",
       "0      Kamya    Ivette   KamyaIvette@gmail.com\n",
       "1      Maite   Aleigha  MaiteAleigha@gmail.com\n",
       "2    Earnest     Terry  EarnestTerry@gmail.com\n",
       "3       Remy     Cohen     RemyCohen@gmail.com\n",
       "4      Riley      Abel     RileyAbel@gmail.com"
      ]
     },
     "execution_count": 2,
     "metadata": {},
     "output_type": "execute_result"
    }
   ],
   "source": [
    "# Create first party PII dataset.\n",
    "data = {\n",
    "            'First_Name': [],\n",
    "            'Last_Name': [],\n",
    "            'Email': []\n",
    "        }\n",
    "\n",
    "test_data = sn(data,20)\n",
    "df = pd.DataFrame(test_data.generate_data())\n",
    "df.head()"
   ]
  },
  {
   "cell_type": "code",
   "execution_count": 3,
   "id": "5de7eea8",
   "metadata": {},
   "outputs": [
    {
     "data": {
      "text/plain": [
       "[-6436326748163890192,\n",
       " 1645554889244584919,\n",
       " -3945038383132726385,\n",
       " -2577306623468092703,\n",
       " 4990169313622329743,\n",
       " 6381556913260219324,\n",
       " -7587812352534271828,\n",
       " 8089650781697779203,\n",
       " -8442582869688979451,\n",
       " -1678888928960737810,\n",
       " -7542098633731487159,\n",
       " -5055610355608001972,\n",
       " -1955760692256943933,\n",
       " 3234970629345951577,\n",
       " 1665334579491280433,\n",
       " 4027808296524075367,\n",
       " 1651366609322418390,\n",
       " -1119625307318497861,\n",
       " -5355349561995106166,\n",
       " 3352195540653029122]"
      ]
     },
     "execution_count": 3,
     "metadata": {},
     "output_type": "execute_result"
    }
   ],
   "source": [
    "# hash emails\n",
    "arr_hash = test_data.hash()\n",
    "arr_hash"
   ]
  },
  {
   "cell_type": "code",
   "execution_count": 4,
   "id": "4aba5424",
   "metadata": {},
   "outputs": [
    {
     "name": "stdout",
     "output_type": "stream",
     "text": [
      "Email that is matched: KamyaIvette@gmail.com\n",
      "Email to match: KamyaIvette@gmail.com\n"
     ]
    }
   ],
   "source": [
    "matched_email = test_data.match(arr_hash[0])\n",
    "print('Email that is matched: '+str(matched_email))\n",
    "for i in test_data.generate_data()['Email']:\n",
    "    if i == matched_email:\n",
    "        email_ = i\n",
    "print('Email to match: '+str(email_))"
   ]
  }
 ],
 "metadata": {
  "kernelspec": {
   "display_name": "Python 3 (ipykernel)",
   "language": "python",
   "name": "python3"
  },
  "language_info": {
   "codemirror_mode": {
    "name": "ipython",
    "version": 3
   },
   "file_extension": ".py",
   "mimetype": "text/x-python",
   "name": "python",
   "nbconvert_exporter": "python",
   "pygments_lexer": "ipython3",
   "version": "3.10.1"
  }
 },
 "nbformat": 4,
 "nbformat_minor": 5
}
